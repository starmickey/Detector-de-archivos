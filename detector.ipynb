{
 "cells": [
  {
   "cell_type": "markdown",
   "metadata": {},
   "source": [
    "## Cómo ejecutarlo\n",
    "\n",
    "1. **Activar entorno de python venv**\n",
    "\n",
    "En bash ejecutar `source venv/Scripts/activate`"
   ]
  },
  {
   "cell_type": "code",
   "execution_count": 14,
   "metadata": {},
   "outputs": [],
   "source": [
    "import os \n",
    "import re\n",
    "import pandas as pd\n",
    "from datetime import datetime"
   ]
  },
  {
   "cell_type": "code",
   "execution_count": 4,
   "metadata": {},
   "outputs": [],
   "source": [
    "directory = \"ejemplos\""
   ]
  },
  {
   "cell_type": "code",
   "execution_count": 5,
   "metadata": {},
   "outputs": [],
   "source": [
    "def get_files(directory, extension = None):\n",
    "    files_list = []\n",
    "    for root, _, files in os.walk(directory):\n",
    "        for file in files:\n",
    "            if extension is not None:\n",
    "                if file.lower().endswith(extension):\n",
    "                    files_list.append(os.path.join(root, file))\n",
    "            else: \n",
    "                files_list.append(os.path.join(root, file))\n",
    "    return files_list\n"
   ]
  },
  {
   "cell_type": "code",
   "execution_count": 6,
   "metadata": {},
   "outputs": [],
   "source": [
    "def filter_files_by_pattern(files, pattern, excluded_words):\n",
    "    results = []\n",
    "    compiled_pattern = re.compile(pattern, re.IGNORECASE)\n",
    "    \n",
    "    for file_path in files:\n",
    "        try:\n",
    "            with open(file_path, \"r\", encoding=\"utf-8\", errors=\"ignore\") as f:\n",
    "                lines = f.readlines()\n",
    "                for line_number, line in enumerate(lines, start=1):\n",
    "                    match = compiled_pattern.search(line)\n",
    "                    if match:\n",
    "                        object_name = match.group(1).lower()\n",
    "                        if not any(excluded in object_name for excluded in excluded_words):\n",
    "                            results.append([os.path.basename(file_path), line_number, line.strip()])\n",
    "        except Exception as e:\n",
    "            print(f\"Error reading {file_path}: {e}\")\n",
    "    \n",
    "    return results"
   ]
  },
  {
   "cell_type": "code",
   "execution_count": 7,
   "metadata": {},
   "outputs": [],
   "source": [
    "def export_results_to_excel(results, output_file):\n",
    "    df = pd.DataFrame(results, columns=[\"Archivo\", \"Line Number\", \"Code Line\"])\n",
    "    df.to_excel(output_file)\n",
    "    print(f\"Results saved to {output_file}\")"
   ]
  },
  {
   "cell_type": "code",
   "execution_count": 17,
   "metadata": {},
   "outputs": [
    {
     "name": "stdout",
     "output_type": "stream",
     "text": [
      "Results saved to results/results-2025-01-29T17-35-28.xlsx\n"
     ]
    }
   ],
   "source": [
    "directory = \"ejemplos\"\n",
    "output_file = f\"results/results-{datetime.today().strftime('%Y-%m-%dT%H-%M-%S')}.xlsx\"\n",
    "file_pattern = \".asp\"\n",
    "search_pattern = r'Server\\.CreateObject\\([\\'\"]([^\\'\"]+)[\\'\"]\\)'\n",
    "excluded_words = {\"datacompbd\", \"datacompgeneral\", \"abcupload4\", \"aspsmartupload\", \"control_licencia\"}\n",
    "\n",
    "asp_files = get_files(directory, file_pattern)\n",
    "results = filter_files_by_pattern(asp_files, search_pattern, excluded_words)\n",
    "\n",
    "if results:\n",
    "    export_results_to_excel(results, output_file)\n",
    "else:\n",
    "    print(\"No matching lines found.\")"
   ]
  }
 ],
 "metadata": {
  "kernelspec": {
   "display_name": "venv",
   "language": "python",
   "name": "python3"
  },
  "language_info": {
   "codemirror_mode": {
    "name": "ipython",
    "version": 3
   },
   "file_extension": ".py",
   "mimetype": "text/x-python",
   "name": "python",
   "nbconvert_exporter": "python",
   "pygments_lexer": "ipython3",
   "version": "3.12.6"
  }
 },
 "nbformat": 4,
 "nbformat_minor": 2
}
